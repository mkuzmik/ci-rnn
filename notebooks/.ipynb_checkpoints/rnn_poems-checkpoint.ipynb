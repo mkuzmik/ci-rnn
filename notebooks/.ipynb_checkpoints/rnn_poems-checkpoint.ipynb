{
 "cells": [
  {
   "cell_type": "code",
   "execution_count": null,
   "metadata": {
    "collapsed": true
   },
   "outputs": [],
   "source": [
    "import re\n",
    "\n",
    "# import data from file\n",
    "with open('../data/r_l_stevenson_poems.txt') as file:\n",
    "    txt = file.read()[1:]\n",
    "\n",
    "# split into paragraphs of text\n",
    "paragraphs = txt.split('\\n\\n')\n",
    "paragraphs = list(map(lambda p: p.replace('\\n', ' '), paragraphs))\n",
    "paragraphs = list(map(lambda p: p.replace('--', ' '), paragraphs))\n",
    "paragraphs = list(map(lambda p: p.replace('-', ''), paragraphs))\n",
    "paragraphs = list(map(lambda p: p.lower(), paragraphs))\n",
    "\n",
    "# Text is splitted into paragraphs and all letters are lowered.\n",
    "# Chars like dots and comas are left - rnn should place them in the right places!\n",
    "\n",
    "paragraphs"
   ]
  }
 ],
 "metadata": {
  "kernelspec": {
   "display_name": "Python 3",
   "language": "python",
   "name": "python3"
  },
  "language_info": {
   "codemirror_mode": {
    "name": "ipython",
    "version": 3
   },
   "file_extension": ".py",
   "mimetype": "text/x-python",
   "name": "python",
   "nbconvert_exporter": "python",
   "pygments_lexer": "ipython3",
   "version": "3.7.3"
  }
 },
 "nbformat": 4,
 "nbformat_minor": 1
}
