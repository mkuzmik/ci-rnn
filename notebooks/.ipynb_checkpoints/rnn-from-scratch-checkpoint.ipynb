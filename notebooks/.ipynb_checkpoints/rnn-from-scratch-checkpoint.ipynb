{
 "cells": [
  {
   "cell_type": "code",
   "execution_count": 66,
   "metadata": {
    "pycharm": {}
   },
   "outputs": [],
   "source": [
    "import numpy as np\n",
    "import matplotlib.pyplot as plt\n",
    "from datetime import datetime\n",
    "import sys\n",
    "\n",
    "%matplotlib inline\n",
    "\n",
    "# implementation based on http://songhuiming.github.io/pages/2017/08/20/build-recurrent-neural-network-from-scratch/\n",
    "\n",
    "# deterministic random"
   ]
  },
  {
   "cell_type": "code",
   "execution_count": 8,
   "metadata": {
    "pycharm": {}
   },
   "outputs": [],
   "source": [
    "# utils\n",
    "def softmax(x):\n",
    "    xt = np.exp(x - np.max(x))\n",
    "    return xt / np.sum(xt)"
   ]
  },
  {
   "cell_type": "code",
   "execution_count": 41,
   "metadata": {
    "pycharm": {},
    "scrolled": true
   },
   "outputs": [],
   "source": [
    "class RNN():\n",
    "    def __init__(self, word_dim, hidden_dim = 100, bptt_truncate = 4):\n",
    "        self.word_dim = word_dim\n",
    "        self.hidden_dim = hidden_dim\n",
    "        self.bptt_truncate = bptt_truncate\n",
    "        self.__init_weights()\n",
    "        \n",
    "    def __init_weights(self):\n",
    "        self.U = np.random.uniform(-np.sqrt(1./self.word_dim), \n",
    "                                   np.sqrt(1./self.word_dim), \n",
    "                                   (self.hidden_dim, self.word_dim))\n",
    "        self.V = np.random.uniform(-np.sqrt(1./self.hidden_dim), \n",
    "                                   np.sqrt(1./self.hidden_dim), \n",
    "                                   (self.word_dim, self.hidden_dim))\n",
    "        self.W = np.random.uniform(-np.sqrt(1./self.hidden_dim), \n",
    "                                   np.sqrt(1./self.hidden_dim), \n",
    "                                   (self.hidden_dim, self.hidden_dim))\n",
    "    \n",
    "    def forward_propagation(self, x):\n",
    "        \"\"\"\n",
    "        @param x: vector of inputs\n",
    "        \"\"\"\n",
    "        T = len(x)\n",
    "        s = np.zeros((T+1, self.hidden_dim))\n",
    "        s[-1] = np.zeros(self.hidden_dim)\n",
    "        o = np.zeros((T, self.word_dim))\n",
    "        for t in np.arange(T):\n",
    "            s[t] = np.tanh(self.U[:, x[t]] + self.W.dot(s[t-1]))\n",
    "            o[t] = softmax(self.V.dot(s[t]))\n",
    "        return [o, s]\n",
    "\n",
    "    def predict(self, x):\n",
    "        o, s = self.forward_propagation(x)\n",
    "        return np.argmax(o, axis = 1)\n",
    "\n",
    "    def calculate_total_loss(self, x, y):\n",
    "        L = 0\n",
    "        # for each sentence ...\n",
    "        for i in np.arange(len(y)):\n",
    "            o, s = self.forward_propagation(x[i])\n",
    "            # we only care about our prediction of the \"correct\" words\n",
    "            correct_word_predictions = o[np.arange(len(y[i])), y[i]]\n",
    "            # add to the loss based on how off we were\n",
    "            L += -1 * np.sum(np.log(correct_word_predictions))\n",
    "        return L\n",
    "\n",
    "    def calculate_loss(self, x, y):\n",
    "        # divide the total loss by the number of training examples\n",
    "        N = np.sum((len(y_i) for y_i in y))\n",
    "        return self.calculate_total_loss(x, y)/N   \n",
    "    \n",
    "    def sgd_step(self, x, y, learning_rate):\n",
    "        dLdU, dLdV, dLdW = self.bptt(x, y)\n",
    "        self.U -= learning_rate * dLdU\n",
    "        self.V -= learning_rate * dLdV\n",
    "        self.W -= learning_rate * dLdW\n",
    "    \n",
    "    def bptt(self, x, y):\n",
    "        T = len(y)\n",
    "        # perform forward propagation\n",
    "        o, s = self.forward_propagation(x)\n",
    "        # we will accumulate the gradients in these variables\n",
    "        dLdU = np.zeros(self.U.shape)\n",
    "        dLdV = np.zeros(self.V.shape)\n",
    "        dLdW = np.zeros(self.W.shape)\n",
    "        delta_o = o\n",
    "        delta_o[np.arange(len(y)), y] -= 1   # it is y_hat - y\n",
    "        # for each output backwards ...\n",
    "        for t in np.arange(T):\n",
    "            dLdV += np.outer(delta_o[t], s[t].T)    # at time step t, shape is word_dim * hidden_dim\n",
    "            # initial delta calculation\n",
    "            delta_t = self.V.T.dot(delta_o[t]) * (1 - (s[t] ** 2))\n",
    "            # backpropagation through time (for at most self.bptt_truncate steps)\n",
    "            # given time step t, go back from time step t, to t-1, t-2, ...\n",
    "            for bptt_step in np.arange(max(0, t-self.bptt_truncate), t+1)[::-1]:\n",
    "                # print(\"Backprogation step t=%d bptt step=%d\" %(t, bptt_step))\n",
    "                dLdW += np.outer(delta_t, s[bptt_step - 1])\n",
    "                dLdU[:, x[bptt_step]] += delta_t\n",
    "                # update delta for next step\n",
    "                dleta_t = self.W.T.dot(delta_t) * (1 - s[bptt_step-1]**2)\n",
    "        return [dLdU, dLdV, dLdW]\n",
    "\n",
    "    def gradient_check(self, x, y, h = 0.001, error_threshold = 0.01):\n",
    "        # calculate the gradient using backpropagation\n",
    "        bptt_gradients = self.bptt(x, y)\n",
    "        # list of all params we want to check\n",
    "        model_parameters = [\"U\", \"V\", \"W\"]\n",
    "        # gradient check for each parameter\n",
    "        for pidx, pname in enumerate(model_parameters):\n",
    "            # get the actual parameter value from model, e.g. model.W\n",
    "            parameter = operator.attrgetter(pname)(self)\n",
    "            print(\"performing gradient check for parameter %s with size %d. \" %(pname, np.prod(parameter.shape)))\n",
    "            # iterate over each element of the parameter matrix, e.g. (0,0), (0,1)...\n",
    "            it = np.nditer(parameter, flags = ['multi_index'], op_flags=['readwrite'])\n",
    "            while not it.finished:\n",
    "                ix = it.multi_index\n",
    "                # save the original value so we can reset it later\n",
    "                original_value = parameter[ix]\n",
    "                # estimate the gradient using (f(x+h) - f(x-h))/2h\n",
    "                parameter[ix] = original_value + h\n",
    "                gradplus = self.calculate_total_loss([x], [y])\n",
    "                parameter[ix] = original_value - h\n",
    "                gradminus = self.calculate_total_loss([x], [y])\n",
    "                estimated_gradient = (gradplus - gradminus)/(2*h)\n",
    "                # reset parameter to the original value\n",
    "                parameter[ix] = original_value\n",
    "                # the gradient for this parameter calculated using backpropagation\n",
    "                backprop_gradient = bptt_gradients[pidx][ix]\n",
    "                # calculate the relative error (|x - y|)/(|x|+|y|)\n",
    "                relative_error = np.abs(backprop_gradient - estimated_gradient)/(np.abs(backprop_gradient) + np.abs(estimated_gradient))\n",
    "                # if the error is too large fail the gradient check\n",
    "                if relative_error < error_threshold:\n",
    "                    print(\"Gradient check error: parameter = %s ix = %s\" %(pname, ix))\n",
    "                    print(\"+h Loss: %f\" % gradplus)\n",
    "                    print(\"-h Loss: %f\" % gradminus)\n",
    "                    print(\"Estimated gradient: %f\" % estimated_gradient)\n",
    "                    print(\"Backpropagation gradient: %f\" % backprop_gradient)\n",
    "                    print(\"Relative error: %f\" % relative_error)\n",
    "                    return\n",
    "                it.iternext()\n",
    "            print(\"Gradient check for parameter %s passed. \" %(pname))"
   ]
  },
  {
   "cell_type": "code",
   "execution_count": 24,
   "metadata": {},
   "outputs": [],
   "source": [
    "def train_with_sgd(model, X_train, y_train, learning_rate = 0.005, nepoch = 100, evaluate_loss_after = 5):\n",
    "    # keep track of the losses so that we can plot them later\n",
    "    losses = []\n",
    "    num_examples_seen = 0\n",
    "    for epoch in range(nepoch):\n",
    "        # optionally evaluate the loss\n",
    "        if (epoch % evaluate_loss_after == 0):\n",
    "            loss = model.calculate_loss(X_train, y_train)\n",
    "            losses.append((num_examples_seen, loss))\n",
    "            time = datetime.now().strftime('%Y-%m-%d %H:%M:%S')\n",
    "            print(\"%s: loss after num_examples_seen=%d epoch=%d: %f\" %(time, num_examples_seen, epoch, loss))\n",
    "            # adjust the learning rate if loss increases\n",
    "            if (len(losses) > 1 and losses[-1][1] > losses[-2][1]):\n",
    "                learning_rate = learning_rate * 0.5\n",
    "                print(\"setting learning rate to %f\" %(learning_rate))\n",
    "            sys.stdout.flush()\n",
    "        # for each training example...\n",
    "        for i in range(len(y_train)):\n",
    "            # one sgd step\n",
    "            model.sgd_step(X_train[i], y_train[i], learning_rate)\n",
    "            num_examples_seen += 1"
   ]
  },
  {
   "cell_type": "code",
   "execution_count": 81,
   "metadata": {},
   "outputs": [
    {
     "name": "stdout",
     "output_type": "stream",
     "text": [
      "2019-06-02 21:24:55: loss after num_examples_seen=0 epoch=0: 1.895406\n",
      "2019-06-02 21:24:55: loss after num_examples_seen=15 epoch=5: 1.884926\n",
      "2019-06-02 21:24:55: loss after num_examples_seen=30 epoch=10: 1.874388\n",
      "2019-06-02 21:24:55: loss after num_examples_seen=45 epoch=15: 1.863778\n",
      "2019-06-02 21:24:55: loss after num_examples_seen=60 epoch=20: 1.853084\n",
      "2019-06-02 21:24:55: loss after num_examples_seen=75 epoch=25: 1.842292\n",
      "2019-06-02 21:24:55: loss after num_examples_seen=90 epoch=30: 1.831392\n",
      "2019-06-02 21:24:55: loss after num_examples_seen=105 epoch=35: 1.820373\n",
      "2019-06-02 21:24:55: loss after num_examples_seen=120 epoch=40: 1.809222\n",
      "2019-06-02 21:24:55: loss after num_examples_seen=135 epoch=45: 1.797930\n",
      "2019-06-02 21:24:55: loss after num_examples_seen=150 epoch=50: 1.786487\n",
      "2019-06-02 21:24:55: loss after num_examples_seen=165 epoch=55: 1.774884\n",
      "2019-06-02 21:24:55: loss after num_examples_seen=180 epoch=60: 1.763112\n",
      "2019-06-02 21:24:55: loss after num_examples_seen=195 epoch=65: 1.751161\n",
      "2019-06-02 21:24:55: loss after num_examples_seen=210 epoch=70: 1.739026\n",
      "2019-06-02 21:24:56: loss after num_examples_seen=225 epoch=75: 1.726698\n",
      "2019-06-02 21:24:56: loss after num_examples_seen=240 epoch=80: 1.714170\n",
      "2019-06-02 21:24:56: loss after num_examples_seen=255 epoch=85: 1.701438\n",
      "2019-06-02 21:24:56: loss after num_examples_seen=270 epoch=90: 1.688495\n",
      "2019-06-02 21:24:56: loss after num_examples_seen=285 epoch=95: 1.675337\n"
     ]
    },
    {
     "name": "stderr",
     "output_type": "stream",
     "text": [
      "/Users/mk/repos/smada/ci-rnn/venv/lib/python3.6/site-packages/ipykernel_launcher.py:49: DeprecationWarning: Calling np.sum(generator) is deprecated, and in the future will give a different result. Use np.sum(np.fromiter(generator)) or the python sum builtin instead.\n"
     ]
    }
   ],
   "source": [
    "X_train = [\n",
    "    [1,2,3],\n",
    "    [2,3,4],\n",
    "    [3,4,5]\n",
    "]\n",
    "\n",
    "y_train = [\n",
    "    [4],\n",
    "    [5],\n",
    "    [6]\n",
    "]\n",
    "\n",
    "rnn = RNN(7, hidden_dim=5)\n",
    "train_with_sgd(rnn, X_train, y_train)"
   ]
  },
  {
   "cell_type": "code",
   "execution_count": 107,
   "metadata": {},
   "outputs": [
    {
     "data": {
      "text/plain": [
       "array([4, 2, 6, 3, 0])"
      ]
     },
     "execution_count": 107,
     "metadata": {},
     "output_type": "execute_result"
    }
   ],
   "source": [
    "rnn.predict([1,2,3,4,5])"
   ]
  }
 ],
 "metadata": {
  "kernelspec": {
   "display_name": "Python 3",
   "language": "python",
   "name": "python3"
  },
  "language_info": {
   "codemirror_mode": {
    "name": "ipython",
    "version": 3
   },
   "file_extension": ".py",
   "mimetype": "text/x-python",
   "name": "python",
   "nbconvert_exporter": "python",
   "pygments_lexer": "ipython3",
   "version": "3.6.5"
  }
 },
 "nbformat": 4,
 "nbformat_minor": 1
}
